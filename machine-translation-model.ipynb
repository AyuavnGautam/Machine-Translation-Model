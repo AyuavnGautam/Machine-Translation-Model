{
 "cells": [
  {
   "cell_type": "code",
   "execution_count": 1,
   "id": "386e007d",
   "metadata": {
    "execution": {
     "iopub.execute_input": "2022-07-25T08:15:24.450742Z",
     "iopub.status.busy": "2022-07-25T08:15:24.449513Z",
     "iopub.status.idle": "2022-07-25T08:15:31.215921Z",
     "shell.execute_reply": "2022-07-25T08:15:31.214606Z"
    },
    "papermill": {
     "duration": 6.781814,
     "end_time": "2022-07-25T08:15:31.218992",
     "exception": false,
     "start_time": "2022-07-25T08:15:24.437178",
     "status": "completed"
    },
    "tags": []
   },
   "outputs": [],
   "source": [
    "import numpy as np\n",
    "import matplotlib.pyplot as plt\n",
    "import seaborn as sns\n",
    "import pandas as pd\n",
    "from collections import defaultdict\n",
    "import string \n",
    "import tensorflow as tf\n",
    "import re\n",
    "import os\n",
    "import time\n",
    "from tensorflow import keras \n",
    "from tensorflow.keras.layers import Dense, Input\n",
    "from tensorflow.keras.optimizers import Adam\n",
    "from tensorflow.keras.models import Model\n",
    "from tensorflow.keras.callbacks import ModelCheckpoint\n",
    "from sklearn.preprocessing import OneHotEncoder\n",
    "from sklearn.model_selection import train_test_split\n"
   ]
  },
  {
   "cell_type": "code",
   "execution_count": 2,
   "id": "a57f5480",
   "metadata": {
    "execution": {
     "iopub.execute_input": "2022-07-25T08:15:31.239684Z",
     "iopub.status.busy": "2022-07-25T08:15:31.239033Z",
     "iopub.status.idle": "2022-07-25T08:15:31.244176Z",
     "shell.execute_reply": "2022-07-25T08:15:31.243157Z"
    },
    "papermill": {
     "duration": 0.01736,
     "end_time": "2022-07-25T08:15:31.246309",
     "exception": false,
     "start_time": "2022-07-25T08:15:31.228949",
     "status": "completed"
    },
    "tags": []
   },
   "outputs": [],
   "source": [
    "Encoder_len = 100\n",
    "Decoder_len = 100\n",
    "Batch_size = 128\n",
    "Buffer_size = Batch_size*4"
   ]
  },
  {
   "cell_type": "code",
   "execution_count": 3,
   "id": "25c7f2eb",
   "metadata": {
    "execution": {
     "iopub.execute_input": "2022-07-25T08:15:31.265852Z",
     "iopub.status.busy": "2022-07-25T08:15:31.265206Z",
     "iopub.status.idle": "2022-07-25T08:15:32.881571Z",
     "shell.execute_reply": "2022-07-25T08:15:32.880516Z"
    },
    "papermill": {
     "duration": 1.629244,
     "end_time": "2022-07-25T08:15:32.884295",
     "exception": false,
     "start_time": "2022-07-25T08:15:31.255051",
     "status": "completed"
    },
    "tags": []
   },
   "outputs": [
    {
     "data": {
      "text/html": [
       "<div>\n",
       "<style scoped>\n",
       "    .dataframe tbody tr th:only-of-type {\n",
       "        vertical-align: middle;\n",
       "    }\n",
       "\n",
       "    .dataframe tbody tr th {\n",
       "        vertical-align: top;\n",
       "    }\n",
       "\n",
       "    .dataframe thead th {\n",
       "        text-align: right;\n",
       "    }\n",
       "</style>\n",
       "<table border=\"1\" class=\"dataframe\">\n",
       "  <thead>\n",
       "    <tr style=\"text-align: right;\">\n",
       "      <th></th>\n",
       "      <th>english_sentence</th>\n",
       "      <th>hindi_sentence</th>\n",
       "    </tr>\n",
       "  </thead>\n",
       "  <tbody>\n",
       "    <tr>\n",
       "      <th>63241</th>\n",
       "      <td>Indian News Service - National News Agency</td>\n",
       "      <td>इण्डियन न्यूज सर्विस - राष्ट्रीय समाचार एजेंसी</td>\n",
       "    </tr>\n",
       "    <tr>\n",
       "      <th>81404</th>\n",
       "      <td>In West Bengal , it seems set to eat humble pi...</td>\n",
       "      <td>पश्चिम बंगाल में तो वह अपमान का घूंट पीने को भ...</td>\n",
       "    </tr>\n",
       "    <tr>\n",
       "      <th>8803</th>\n",
       "      <td>One american dollar is equal to 60 pakistani r...</td>\n",
       "      <td>एक अमरीकी डालर की कीमत लगभग ६० पाकिस्तानी रुपय...</td>\n",
       "    </tr>\n",
       "    <tr>\n",
       "      <th>73434</th>\n",
       "      <td>but between those high highs,</td>\n",
       "      <td>लेकिन इन बेहतरीन लम्हों के बीच</td>\n",
       "    </tr>\n",
       "    <tr>\n",
       "      <th>65711</th>\n",
       "      <td>Every other politician went along because when...</td>\n",
       "      <td>और वजह यह थी कि आर्थिक मामलं पर हमेशा विफल विच...</td>\n",
       "    </tr>\n",
       "  </tbody>\n",
       "</table>\n",
       "</div>"
      ],
      "text/plain": [
       "                                        english_sentence  \\\n",
       "63241         Indian News Service - National News Agency   \n",
       "81404  In West Bengal , it seems set to eat humble pi...   \n",
       "8803   One american dollar is equal to 60 pakistani r...   \n",
       "73434                      but between those high highs,   \n",
       "65711  Every other politician went along because when...   \n",
       "\n",
       "                                          hindi_sentence  \n",
       "63241     इण्डियन न्यूज सर्विस - राष्ट्रीय समाचार एजेंसी  \n",
       "81404  पश्चिम बंगाल में तो वह अपमान का घूंट पीने को भ...  \n",
       "8803   एक अमरीकी डालर की कीमत लगभग ६० पाकिस्तानी रुपय...  \n",
       "73434                     लेकिन इन बेहतरीन लम्हों के बीच  \n",
       "65711  और वजह यह थी कि आर्थिक मामलं पर हमेशा विफल विच...  "
      ]
     },
     "execution_count": 3,
     "metadata": {},
     "output_type": "execute_result"
    }
   ],
   "source": [
    "train_df = pd.read_csv(\"../input/hindienglish-corpora/Hindi_English_Truncated_Corpus.csv\")\n",
    "train_df.drop(['source'],axis=1,inplace=True)\n",
    "mask = (train_df['english_sentence'].str.len()>20) & (train_df['english_sentence'].str.len()<200)\n",
    "train_df = train_df.loc[mask]\n",
    "train_df = train_df.sample(64000, random_state=1)\n",
    "train_df.head()"
   ]
  },
  {
   "cell_type": "code",
   "execution_count": 4,
   "id": "7c53fd30",
   "metadata": {
    "execution": {
     "iopub.execute_input": "2022-07-25T08:15:32.904340Z",
     "iopub.status.busy": "2022-07-25T08:15:32.903974Z",
     "iopub.status.idle": "2022-07-25T08:15:32.909444Z",
     "shell.execute_reply": "2022-07-25T08:15:32.908311Z"
    },
    "papermill": {
     "duration": 0.017987,
     "end_time": "2022-07-25T08:15:32.911806",
     "exception": false,
     "start_time": "2022-07-25T08:15:32.893819",
     "status": "completed"
    },
    "tags": []
   },
   "outputs": [],
   "source": [
    "pd.set_option('display.max_colwidth', None)"
   ]
  },
  {
   "cell_type": "code",
   "execution_count": 5,
   "id": "16c1e956",
   "metadata": {
    "execution": {
     "iopub.execute_input": "2022-07-25T08:15:32.931652Z",
     "iopub.status.busy": "2022-07-25T08:15:32.931289Z",
     "iopub.status.idle": "2022-07-25T08:15:33.047942Z",
     "shell.execute_reply": "2022-07-25T08:15:33.046816Z"
    },
    "papermill": {
     "duration": 0.129774,
     "end_time": "2022-07-25T08:15:33.050758",
     "exception": false,
     "start_time": "2022-07-25T08:15:32.920984",
     "status": "completed"
    },
    "tags": []
   },
   "outputs": [],
   "source": [
    "\n",
    "eng = train_df['english_sentence']\n",
    "hind = train_df['hindi_sentence']\n",
    "eng = eng.apply(lambda x: \"<SOS> \" + str(x) + \" <EOS>\")\n",
    "hind = hind.apply(lambda x: \"<SOS> \"+ x + \" <EOS>\")"
   ]
  },
  {
   "cell_type": "code",
   "execution_count": 6,
   "id": "d680d4db",
   "metadata": {
    "execution": {
     "iopub.execute_input": "2022-07-25T08:15:33.070595Z",
     "iopub.status.busy": "2022-07-25T08:15:33.070218Z",
     "iopub.status.idle": "2022-07-25T08:15:40.200987Z",
     "shell.execute_reply": "2022-07-25T08:15:40.199879Z"
    },
    "papermill": {
     "duration": 7.144119,
     "end_time": "2022-07-25T08:15:40.204044",
     "exception": false,
     "start_time": "2022-07-25T08:15:33.059925",
     "status": "completed"
    },
    "tags": []
   },
   "outputs": [],
   "source": [
    "filters = '!\"#$%&()*+,-./:;=?@[\\\\]^_`{|}~\\t\\n'\n",
    "oov_token = '<unk>'\n",
    "eng_tokenizer = tf.keras.preprocessing.text.Tokenizer(filters = filters, oov_token=oov_token)\n",
    "hind_tokenizer = tf.keras.preprocessing.text.Tokenizer(filters = filters, oov_token=oov_token)\n",
    "eng_tokenizer.fit_on_texts(eng)\n",
    "hind_tokenizer.fit_on_texts(hind)\n",
    "inputs = eng_tokenizer.texts_to_sequences(eng)\n",
    "targets = hind_tokenizer.texts_to_sequences(hind)\n",
    "\n",
    "\n"
   ]
  },
  {
   "cell_type": "code",
   "execution_count": 7,
   "id": "64a07fdb",
   "metadata": {
    "execution": {
     "iopub.execute_input": "2022-07-25T08:15:40.224645Z",
     "iopub.status.busy": "2022-07-25T08:15:40.224231Z",
     "iopub.status.idle": "2022-07-25T08:15:40.230468Z",
     "shell.execute_reply": "2022-07-25T08:15:40.229390Z"
    },
    "papermill": {
     "duration": 0.019993,
     "end_time": "2022-07-25T08:15:40.233557",
     "exception": false,
     "start_time": "2022-07-25T08:15:40.213564",
     "status": "completed"
    },
    "tags": []
   },
   "outputs": [
    {
     "name": "stdout",
     "output_type": "stream",
     "text": [
      "44305 51960\n"
     ]
    }
   ],
   "source": [
    "Encoder_Vocab = len(eng_tokenizer.word_index) + 1\n",
    "Decoder_Vocab = len(hind_tokenizer.word_index) + 1\n",
    "print(Encoder_Vocab, Decoder_Vocab)\n"
   ]
  },
  {
   "cell_type": "code",
   "execution_count": 8,
   "id": "2c0b8314",
   "metadata": {
    "execution": {
     "iopub.execute_input": "2022-07-25T08:15:40.254834Z",
     "iopub.status.busy": "2022-07-25T08:15:40.253703Z",
     "iopub.status.idle": "2022-07-25T08:15:43.591889Z",
     "shell.execute_reply": "2022-07-25T08:15:43.590747Z"
    },
    "papermill": {
     "duration": 3.352511,
     "end_time": "2022-07-25T08:15:43.595442",
     "exception": false,
     "start_time": "2022-07-25T08:15:40.242931",
     "status": "completed"
    },
    "tags": []
   },
   "outputs": [
    {
     "name": "stderr",
     "output_type": "stream",
     "text": [
      "2022-07-25 08:15:41.014605: I tensorflow/stream_executor/cuda/cuda_gpu_executor.cc:937] successful NUMA node read from SysFS had negative value (-1), but there must be at least one NUMA node, so returning NUMA node zero\n",
      "2022-07-25 08:15:41.143276: I tensorflow/stream_executor/cuda/cuda_gpu_executor.cc:937] successful NUMA node read from SysFS had negative value (-1), but there must be at least one NUMA node, so returning NUMA node zero\n",
      "2022-07-25 08:15:41.144225: I tensorflow/stream_executor/cuda/cuda_gpu_executor.cc:937] successful NUMA node read from SysFS had negative value (-1), but there must be at least one NUMA node, so returning NUMA node zero\n",
      "2022-07-25 08:15:41.147466: I tensorflow/core/platform/cpu_feature_guard.cc:142] This TensorFlow binary is optimized with oneAPI Deep Neural Network Library (oneDNN) to use the following CPU instructions in performance-critical operations:  AVX2 AVX512F FMA\n",
      "To enable them in other operations, rebuild TensorFlow with the appropriate compiler flags.\n",
      "2022-07-25 08:15:41.147961: I tensorflow/stream_executor/cuda/cuda_gpu_executor.cc:937] successful NUMA node read from SysFS had negative value (-1), but there must be at least one NUMA node, so returning NUMA node zero\n",
      "2022-07-25 08:15:41.149111: I tensorflow/stream_executor/cuda/cuda_gpu_executor.cc:937] successful NUMA node read from SysFS had negative value (-1), but there must be at least one NUMA node, so returning NUMA node zero\n",
      "2022-07-25 08:15:41.150096: I tensorflow/stream_executor/cuda/cuda_gpu_executor.cc:937] successful NUMA node read from SysFS had negative value (-1), but there must be at least one NUMA node, so returning NUMA node zero\n",
      "2022-07-25 08:15:43.161240: I tensorflow/stream_executor/cuda/cuda_gpu_executor.cc:937] successful NUMA node read from SysFS had negative value (-1), but there must be at least one NUMA node, so returning NUMA node zero\n",
      "2022-07-25 08:15:43.162237: I tensorflow/stream_executor/cuda/cuda_gpu_executor.cc:937] successful NUMA node read from SysFS had negative value (-1), but there must be at least one NUMA node, so returning NUMA node zero\n",
      "2022-07-25 08:15:43.163008: I tensorflow/stream_executor/cuda/cuda_gpu_executor.cc:937] successful NUMA node read from SysFS had negative value (-1), but there must be at least one NUMA node, so returning NUMA node zero\n",
      "2022-07-25 08:15:43.163698: I tensorflow/core/common_runtime/gpu/gpu_device.cc:1510] Created device /job:localhost/replica:0/task:0/device:GPU:0 with 15403 MB memory:  -> device: 0, name: Tesla P100-PCIE-16GB, pci bus id: 0000:00:04.0, compute capability: 6.0\n"
     ]
    }
   ],
   "source": [
    "inputs = tf.keras.preprocessing.sequence.pad_sequences(inputs, maxlen=Encoder_len, padding='post', truncating='post')\n",
    "targets = tf.keras.preprocessing.sequence.pad_sequences(targets, maxlen=Decoder_len, padding='post', truncating='post')\n",
    "inputs = tf.cast(inputs, dtype=tf.int64)\n",
    "targets = tf.cast(targets, dtype=tf.int64)"
   ]
  },
  {
   "cell_type": "code",
   "execution_count": 9,
   "id": "d078f43f",
   "metadata": {
    "execution": {
     "iopub.execute_input": "2022-07-25T08:15:43.617603Z",
     "iopub.status.busy": "2022-07-25T08:15:43.616889Z",
     "iopub.status.idle": "2022-07-25T08:15:43.718727Z",
     "shell.execute_reply": "2022-07-25T08:15:43.717594Z"
    },
    "papermill": {
     "duration": 0.115456,
     "end_time": "2022-07-25T08:15:43.721345",
     "exception": false,
     "start_time": "2022-07-25T08:15:43.605889",
     "status": "completed"
    },
    "tags": []
   },
   "outputs": [],
   "source": [
    "dataset = tf.data.Dataset.from_tensor_slices((inputs, targets)).shuffle(Buffer_size).batch(Batch_size)"
   ]
  },
  {
   "cell_type": "code",
   "execution_count": 10,
   "id": "cefe5d33",
   "metadata": {
    "execution": {
     "iopub.execute_input": "2022-07-25T08:15:43.742690Z",
     "iopub.status.busy": "2022-07-25T08:15:43.742279Z",
     "iopub.status.idle": "2022-07-25T08:15:43.756672Z",
     "shell.execute_reply": "2022-07-25T08:15:43.755433Z"
    },
    "papermill": {
     "duration": 0.028097,
     "end_time": "2022-07-25T08:15:43.759564",
     "exception": false,
     "start_time": "2022-07-25T08:15:43.731467",
     "status": "completed"
    },
    "tags": []
   },
   "outputs": [],
   "source": [
    "def get_angles(position, i, d_model):\n",
    "    angle_rates = 1 / np.power(10000, (2 *(i // 2)) / np.float32(d_model))\n",
    "    return position * angle_rates\n",
    "\n",
    "def positional_encoding(position, d_model):\n",
    "    angle_rads = get_angles(\n",
    "        np.arange(position)[:,np.newaxis],\n",
    "         np.arange(d_model)[np.newaxis, :],\n",
    "        d_model\n",
    "    )\n",
    "    \n",
    "    angle_rads[:, 0::2] = np.sin(angle_rads[:, 0::2])\n",
    "\n",
    "    angle_rads[:, 1::2] = np.cos(angle_rads[:, 1::2])\n",
    "\n",
    "    pos_encoding = angle_rads[np.newaxis, ...]\n",
    "\n",
    "    return tf.cast(pos_encoding, dtype=tf.float32)\n",
    "def create_padding_mask(seq):\n",
    "     seq = tf.cast(tf.math.equal(seq, 0), tf.float32)\n",
    "     return seq[:, tf.newaxis, tf.newaxis, :]\n",
    "\n",
    "def create_look_ahead_mask(size):\n",
    "    mask = 1 - tf.linalg.band_part(tf.ones((size, size)), -1, 0)\n",
    "    return mask\n",
    "def scaled_dot_product_attention(q,k,v,mask):\n",
    "    matmul_qk = tf.matmul(q, k, transpose_b=True)\n",
    "\n",
    "    dk = tf.cast(tf.shape(k)[-1], tf.float32)\n",
    "    scaled_attention_logits = matmul_qk / tf.math.sqrt(dk)\n",
    "    if mask is not None:\n",
    "        scaled_attention_logits += (mask * -1e9)\n",
    "        \n",
    "    attention_weights = tf.nn.softmax(scaled_attention_logits, axis=-1)\n",
    "\n",
    "    output = tf.matmul(attention_weights, v)\n",
    "    return output, attention_weights \n",
    "        "
   ]
  },
  {
   "cell_type": "code",
   "execution_count": 11,
   "id": "1550ce82",
   "metadata": {
    "execution": {
     "iopub.execute_input": "2022-07-25T08:15:43.780908Z",
     "iopub.status.busy": "2022-07-25T08:15:43.780540Z",
     "iopub.status.idle": "2022-07-25T08:15:43.795952Z",
     "shell.execute_reply": "2022-07-25T08:15:43.794520Z"
    },
    "papermill": {
     "duration": 0.028454,
     "end_time": "2022-07-25T08:15:43.798246",
     "exception": false,
     "start_time": "2022-07-25T08:15:43.769792",
     "status": "completed"
    },
    "tags": []
   },
   "outputs": [],
   "source": [
    "class MultiHeadAttention(tf.keras.layers.Layer):\n",
    "    def __init__(self, d_model, num_heads):\n",
    "        super(MultiHeadAttention, self).__init__()\n",
    "        self.num_heads = num_heads\n",
    "        self.d_model = d_model\n",
    "        assert d_model % self.num_heads==0\n",
    "        self.depth = d_model // self.num_heads\n",
    "        \n",
    "        self.wq = tf.keras.layers.Dense(d_model)\n",
    "        self.wk = tf.keras.layers.Dense(d_model)\n",
    "        self.wv = tf.keras.layers.Dense(d_model)\n",
    "        \n",
    "        self.dense = tf.keras.layers.Dense(d_model) \n",
    "        \n",
    "    def split_heads(self, x, batch_size):\n",
    "        x = tf.reshape(x, (batch_size, -1, self.num_heads, self.depth))\n",
    "        return tf.transpose(x, perm=[0, 2, 1, 3])\n",
    "    \n",
    "    def call(self, v, k, q, mask):\n",
    "        batch_size = tf.shape(q)[0]\n",
    "\n",
    "        q = self.wq(q)\n",
    "        k = self.wk(k)\n",
    "        v = self.wv(v)\n",
    "        \n",
    "        \n",
    "        q = self.split_heads(q, batch_size)\n",
    "        k = self.split_heads(k, batch_size)\n",
    "        v = self.split_heads(v, batch_size)\n",
    "        \n",
    "        scaled_attention, attention_weights = scaled_dot_product_attention(\n",
    "            q, k, v, mask)\n",
    "        \n",
    "        scaled_attention = tf.transpose(scaled_attention, perm=[0, 2, 1, 3])\n",
    "        \n",
    "        concat_attention = tf.reshape(scaled_attention, (batch_size, -1, self.d_model))\n",
    "        output = self.dense(concat_attention)\n",
    "            \n",
    "        return output, attention_weights\n",
    "def point_wise_feed_forward_network(d_model, dff):\n",
    "    return tf.keras.Sequential([\n",
    "        tf.keras.layers.Dense(dff, activation='relu'),\n",
    "        tf.keras.layers.Dense(d_model)\n",
    "    ])  \n",
    "\n",
    "        \n",
    "        \n",
    "        "
   ]
  },
  {
   "cell_type": "code",
   "execution_count": 12,
   "id": "6cc4dae3",
   "metadata": {
    "execution": {
     "iopub.execute_input": "2022-07-25T08:15:43.819249Z",
     "iopub.status.busy": "2022-07-25T08:15:43.818878Z",
     "iopub.status.idle": "2022-07-25T08:15:43.829570Z",
     "shell.execute_reply": "2022-07-25T08:15:43.828489Z"
    },
    "papermill": {
     "duration": 0.024079,
     "end_time": "2022-07-25T08:15:43.831944",
     "exception": false,
     "start_time": "2022-07-25T08:15:43.807865",
     "status": "completed"
    },
    "tags": []
   },
   "outputs": [],
   "source": [
    "class EncoderLayer(tf.keras.layers.Layer):\n",
    "    def __init__(self, d_model, num_heads, dff, rate=0.1):\n",
    "        super(EncoderLayer, self).__init__()\n",
    "        \n",
    "        self.mha  = MultiHeadAttention(d_model, num_heads)\n",
    "        self.ffn = point_wise_feed_forward_network(d_model, dff)\n",
    "        \n",
    "        self.layernorm1 = tf.keras.layers.LayerNormalization(epsilon=1e-6)\n",
    "        self.layernorm2 = tf.keras.layers.LayerNormalization(epsilon=1e-6)\n",
    "\n",
    "\n",
    "        self.dropout1 = tf.keras.layers.Dropout(rate)\n",
    "        self.dropout2 = tf.keras.layers.Dropout(rate)\n",
    "        \n",
    "    def call(self, x, training, mask):\n",
    "        attn_output, _ = self.mha(x, x, x ,mask)\n",
    "        attn_output = self.dropout1(attn_output, training=training)\n",
    "        out1 = self.layernorm1(x + attn_output)\n",
    "        \n",
    "        ffn_output = self.ffn(out1)\n",
    "        ffn_output = self.dropout2(ffn_output, training= training)\n",
    "        out2 = self.layernorm2(out1 + ffn_output)\n",
    "        \n",
    "        return out2\n",
    "        \n"
   ]
  },
  {
   "cell_type": "code",
   "execution_count": 13,
   "id": "8ed9ff74",
   "metadata": {
    "execution": {
     "iopub.execute_input": "2022-07-25T08:15:43.853088Z",
     "iopub.status.busy": "2022-07-25T08:15:43.852393Z",
     "iopub.status.idle": "2022-07-25T08:15:43.865658Z",
     "shell.execute_reply": "2022-07-25T08:15:43.864475Z"
    },
    "papermill": {
     "duration": 0.026546,
     "end_time": "2022-07-25T08:15:43.868105",
     "exception": false,
     "start_time": "2022-07-25T08:15:43.841559",
     "status": "completed"
    },
    "tags": []
   },
   "outputs": [],
   "source": [
    "class DecoderLayer(tf.keras.layers.Layer):\n",
    "    def __init__(self, d_model, num_heads, dff, rate=0.1):\n",
    "        super(DecoderLayer, self).__init__()\n",
    "\n",
    "        self.mha1 = MultiHeadAttention(d_model, num_heads)\n",
    "        self.mha2 = MultiHeadAttention(d_model, num_heads)\n",
    "\n",
    "        self.ffn = point_wise_feed_forward_network(d_model, dff)\n",
    "\n",
    "        self.layernorm1 = tf.keras.layers.LayerNormalization(epsilon=1e-6)\n",
    "        self.layernorm2 = tf.keras.layers.LayerNormalization(epsilon=1e-6)\n",
    "        self.layernorm3 = tf.keras.layers.LayerNormalization(epsilon=1e-6)\n",
    "\n",
    "        self.dropout1 = tf.keras.layers.Dropout(rate)\n",
    "        self.dropout2 = tf.keras.layers.Dropout(rate)\n",
    "        self.dropout3 = tf.keras.layers.Dropout(rate)\n",
    "    \n",
    "    \n",
    "    def call(self, x, enc_output, training, look_ahead_mask, padding_mask):\n",
    "        attn1, attn_weights_block1 = self.mha1(x, x, x, look_ahead_mask)\n",
    "        attn1 = self.dropout1(attn1, training=training)\n",
    "        out1 = self.layernorm1(attn1 + x)\n",
    "\n",
    "        attn2, attn_weights_block2 = self.mha2(enc_output, enc_output, out1, padding_mask)\n",
    "        attn2 = self.dropout2(attn2, training=training)\n",
    "        out2 = self.layernorm2(attn2 + out1)\n",
    "\n",
    "        ffn_output = self.ffn(out2)\n",
    "        ffn_output = self.dropout3(ffn_output, training=training)\n",
    "        out3 = self.layernorm3(ffn_output + out2)\n",
    "\n",
    "        return out3, attn_weights_block1, attn_weights_block2"
   ]
  },
  {
   "cell_type": "code",
   "execution_count": 14,
   "id": "b683a6dd",
   "metadata": {
    "execution": {
     "iopub.execute_input": "2022-07-25T08:15:43.888920Z",
     "iopub.status.busy": "2022-07-25T08:15:43.888534Z",
     "iopub.status.idle": "2022-07-25T08:15:43.899680Z",
     "shell.execute_reply": "2022-07-25T08:15:43.898518Z"
    },
    "papermill": {
     "duration": 0.023997,
     "end_time": "2022-07-25T08:15:43.901830",
     "exception": false,
     "start_time": "2022-07-25T08:15:43.877833",
     "status": "completed"
    },
    "tags": []
   },
   "outputs": [],
   "source": [
    "class Encoder(tf.keras.layers.Layer):\n",
    "    def __init__(self, num_layers, d_model, num_heads, dff, input_vocab_size, maximum_position_encoding, rate=0.1):\n",
    "        super(Encoder, self).__init__()\n",
    "\n",
    "        self.d_model = d_model\n",
    "        self.num_layers = num_layers\n",
    "\n",
    "        self.embedding = tf.keras.layers.Embedding(input_vocab_size, d_model)\n",
    "        self.pos_encoding = positional_encoding(maximum_position_encoding, self.d_model)\n",
    "\n",
    "        self.enc_layers = [EncoderLayer(d_model, num_heads, dff, rate) for _ in range(num_layers)]\n",
    "\n",
    "        self.dropout = tf.keras.layers.Dropout(rate)\n",
    "        \n",
    "    def call(self, x, training, mask):\n",
    "        seq_len = tf.shape(x)[1]\n",
    "\n",
    "        x = self.embedding(x)\n",
    "        x *= tf.math.sqrt(tf.cast(self.d_model, tf.float32))\n",
    "        x += self.pos_encoding[:, :seq_len, :]\n",
    "\n",
    "        x = self.dropout(x, training=training)\n",
    "    \n",
    "        for i in range(self.num_layers):\n",
    "            x = self.enc_layers[i](x, training, mask)\n",
    "    \n",
    "        return x"
   ]
  },
  {
   "cell_type": "code",
   "execution_count": 15,
   "id": "1d62539d",
   "metadata": {
    "execution": {
     "iopub.execute_input": "2022-07-25T08:15:43.923189Z",
     "iopub.status.busy": "2022-07-25T08:15:43.922513Z",
     "iopub.status.idle": "2022-07-25T08:15:43.935372Z",
     "shell.execute_reply": "2022-07-25T08:15:43.934193Z"
    },
    "papermill": {
     "duration": 0.026026,
     "end_time": "2022-07-25T08:15:43.937746",
     "exception": false,
     "start_time": "2022-07-25T08:15:43.911720",
     "status": "completed"
    },
    "tags": []
   },
   "outputs": [],
   "source": [
    "class Decoder(tf.keras.layers.Layer):\n",
    "        \n",
    "    def __init__(self, num_layers, d_model, num_heads, dff, target_vocab_size, maximum_position_encoding, rate=0.1):\n",
    "        super(Decoder, self).__init__()\n",
    "\n",
    "        self.d_model = d_model\n",
    "        self.num_layers = num_layers\n",
    "\n",
    "        self.embedding = tf.keras.layers.Embedding(target_vocab_size, d_model)\n",
    "        self.pos_encoding = positional_encoding(maximum_position_encoding, d_model)\n",
    "\n",
    "        self.dec_layers = [DecoderLayer(d_model, num_heads, dff, rate) for _ in range(num_layers)]\n",
    "        self.dropout = tf.keras.layers.Dropout(rate)\n",
    "    \n",
    "    def call(self, x, enc_output, training, look_ahead_mask, padding_mask):\n",
    "        seq_len = tf.shape(x)[1]\n",
    "        attention_weights = {}\n",
    "\n",
    "        x = self.embedding(x)\n",
    "        x *= tf.math.sqrt(tf.cast(self.d_model, tf.float32))\n",
    "        x += self.pos_encoding[:, :seq_len, :]\n",
    "\n",
    "        x = self.dropout(x, training=training)\n",
    "\n",
    "        for i in range(self.num_layers):\n",
    "            x, block1, block2 = self.dec_layers[i](x, enc_output, training, look_ahead_mask, padding_mask)\n",
    "\n",
    "            attention_weights['decoder_layer{}_block1'.format(i+1)] = block1\n",
    "            attention_weights['decoder_layer{}_block2'.format(i+1)] = block2\n",
    "    \n",
    "        return x, attention_weights"
   ]
  },
  {
   "cell_type": "code",
   "execution_count": 16,
   "id": "3f5ce579",
   "metadata": {
    "execution": {
     "iopub.execute_input": "2022-07-25T08:15:43.958439Z",
     "iopub.status.busy": "2022-07-25T08:15:43.958071Z",
     "iopub.status.idle": "2022-07-25T08:15:43.968827Z",
     "shell.execute_reply": "2022-07-25T08:15:43.967759Z"
    },
    "papermill": {
     "duration": 0.02403,
     "end_time": "2022-07-25T08:15:43.971160",
     "exception": false,
     "start_time": "2022-07-25T08:15:43.947130",
     "status": "completed"
    },
    "tags": []
   },
   "outputs": [],
   "source": [
    "class Transformer(tf.keras.Model):\n",
    "    def __init__(self, num_layers, d_model, num_heads, dff, input_vocab_size, target_vocab_size, pe_input, pe_target, rate=0.1):\n",
    "        super(Transformer, self).__init__()\n",
    "\n",
    "        self.encoder = Encoder(num_layers, d_model, num_heads, dff, input_vocab_size, pe_input, rate)\n",
    "\n",
    "        self.decoder = Decoder(num_layers, d_model, num_heads, dff, target_vocab_size, pe_target, rate)\n",
    "\n",
    "        self.final_layer = tf.keras.layers.Dense(target_vocab_size)\n",
    "    \n",
    "    def call(self, inp, tar, training, enc_padding_mask, look_ahead_mask, dec_padding_mask):\n",
    "        enc_output = self.encoder(inp, training, enc_padding_mask)\n",
    "\n",
    "        dec_output, attention_weights = self.decoder(tar, enc_output, training, look_ahead_mask, dec_padding_mask)\n",
    "\n",
    "        final_output = self.final_layer(dec_output)\n",
    "\n",
    "        return final_output, attention_weights"
   ]
  },
  {
   "cell_type": "code",
   "execution_count": 17,
   "id": "aadb61c0",
   "metadata": {
    "execution": {
     "iopub.execute_input": "2022-07-25T08:15:43.992265Z",
     "iopub.status.busy": "2022-07-25T08:15:43.991894Z",
     "iopub.status.idle": "2022-07-25T08:15:43.997314Z",
     "shell.execute_reply": "2022-07-25T08:15:43.996131Z"
    },
    "papermill": {
     "duration": 0.019276,
     "end_time": "2022-07-25T08:15:44.000306",
     "exception": false,
     "start_time": "2022-07-25T08:15:43.981030",
     "status": "completed"
    },
    "tags": []
   },
   "outputs": [],
   "source": [
    "num_layers = 4\n",
    "d_model = 128\n",
    "dff = 512\n",
    "num_heads = 8\n",
    "dropout_rate = 0.1\n",
    "EPOCHS = 20"
   ]
  },
  {
   "cell_type": "code",
   "execution_count": 18,
   "id": "17096d7e",
   "metadata": {
    "execution": {
     "iopub.execute_input": "2022-07-25T08:15:44.020864Z",
     "iopub.status.busy": "2022-07-25T08:15:44.020519Z",
     "iopub.status.idle": "2022-07-25T08:15:44.028387Z",
     "shell.execute_reply": "2022-07-25T08:15:44.027355Z"
    },
    "papermill": {
     "duration": 0.020651,
     "end_time": "2022-07-25T08:15:44.030582",
     "exception": false,
     "start_time": "2022-07-25T08:15:44.009931",
     "status": "completed"
    },
    "tags": []
   },
   "outputs": [],
   "source": [
    "class CustomSchedule(tf.keras.optimizers.schedules.LearningRateSchedule):\n",
    "    def __init__(self, d_model, warmup_steps=4000):\n",
    "        super(CustomSchedule, self).__init__()\n",
    "\n",
    "        self.d_model = d_model\n",
    "        self.d_model = tf.cast(self.d_model, tf.float32)\n",
    "\n",
    "        self.warmup_steps = warmup_steps\n",
    "    \n",
    "    def __call__(self, step):\n",
    "        arg1 = tf.math.rsqrt(step)\n",
    "        arg2 = step * (self.warmup_steps ** -1.5)\n",
    "\n",
    "        return tf.math.rsqrt(self.d_model) * tf.math.minimum(arg1, arg2)"
   ]
  },
  {
   "cell_type": "code",
   "execution_count": 19,
   "id": "eced9ee8",
   "metadata": {
    "execution": {
     "iopub.execute_input": "2022-07-25T08:15:44.051817Z",
     "iopub.status.busy": "2022-07-25T08:15:44.050740Z",
     "iopub.status.idle": "2022-07-25T08:15:44.058062Z",
     "shell.execute_reply": "2022-07-25T08:15:44.057083Z"
    },
    "papermill": {
     "duration": 0.020445,
     "end_time": "2022-07-25T08:15:44.060425",
     "exception": false,
     "start_time": "2022-07-25T08:15:44.039980",
     "status": "completed"
    },
    "tags": []
   },
   "outputs": [],
   "source": [
    "learning_rate = CustomSchedule(d_model)\n",
    "\n",
    "optimizer = tf.keras.optimizers.Adam(learning_rate, beta_1=0.9, beta_2=0.98, epsilon=1e-9)"
   ]
  },
  {
   "cell_type": "code",
   "execution_count": 20,
   "id": "6910ff2b",
   "metadata": {
    "execution": {
     "iopub.execute_input": "2022-07-25T08:15:44.081356Z",
     "iopub.status.busy": "2022-07-25T08:15:44.080409Z",
     "iopub.status.idle": "2022-07-25T08:15:44.355581Z",
     "shell.execute_reply": "2022-07-25T08:15:44.354536Z"
    },
    "papermill": {
     "duration": 0.288041,
     "end_time": "2022-07-25T08:15:44.357927",
     "exception": false,
     "start_time": "2022-07-25T08:15:44.069886",
     "status": "completed"
    },
    "tags": []
   },
   "outputs": [
    {
     "data": {
      "text/plain": [
       "Text(0.5, 0, 'Train Step')"
      ]
     },
     "execution_count": 20,
     "metadata": {},
     "output_type": "execute_result"
    },
    {
     "data": {
      "image/png": "[encoded data removed]",
      "text/plain": [
       "<Figure size 432x288 with 1 Axes>"
      ]
     },
     "metadata": {
      "needs_background": "light"
     },
     "output_type": "display_data"
    }
   ],
   "source": [
    "temp_learning_rate_schedule = CustomSchedule(d_model)\n",
    "\n",
    "plt.plot(temp_learning_rate_schedule(tf.range(40000, dtype=tf.float32)))\n",
    "plt.ylabel(\"Learning Rate\")\n",
    "plt.xlabel(\"Train Step\")"
   ]
  },
  {
   "cell_type": "code",
   "execution_count": 21,
   "id": "50f85159",
   "metadata": {
    "execution": {
     "iopub.execute_input": "2022-07-25T08:15:44.388560Z",
     "iopub.status.busy": "2022-07-25T08:15:44.388033Z",
     "iopub.status.idle": "2022-07-25T08:15:44.404491Z",
     "shell.execute_reply": "2022-07-25T08:15:44.403221Z"
    },
    "papermill": {
     "duration": 0.039651,
     "end_time": "2022-07-25T08:15:44.407751",
     "exception": false,
     "start_time": "2022-07-25T08:15:44.368100",
     "status": "completed"
    },
    "tags": []
   },
   "outputs": [],
   "source": [
    "loss_object = tf.keras.losses.SparseCategoricalCrossentropy(from_logits=True, reduction='none')\n",
    "def loss_function(real, pred):\n",
    "    mask = tf.math.logical_not(tf.math.equal(real, 0))\n",
    "    loss_ = loss_object(real, pred)\n",
    "\n",
    "    mask = tf.cast(mask, dtype=loss_.dtype)\n",
    "    loss_ *= mask\n",
    "\n",
    "    return tf.reduce_sum(loss_)/tf.reduce_sum(mask)\n",
    "\n",
    "\n",
    "def accuracy_function(real, pred):\n",
    "    accuracies = tf.equal(real, tf.argmax(pred, axis=2))\n",
    "\n",
    "    mask = tf.math.logical_not(tf.math.equal(real, 0))\n",
    "    accuracies = tf.math.logical_and(mask, accuracies)\n",
    "\n",
    "    accuracies = tf.cast(accuracies, dtype=tf.float32)\n",
    "    mask = tf.cast(mask, dtype=tf.float32)\n",
    "    return tf.reduce_sum(accuracies)/tf.reduce_sum(mask)"
   ]
  },
  {
   "cell_type": "code",
   "execution_count": 22,
   "id": "f8a57794",
   "metadata": {
    "execution": {
     "iopub.execute_input": "2022-07-25T08:15:44.445338Z",
     "iopub.status.busy": "2022-07-25T08:15:44.444850Z",
     "iopub.status.idle": "2022-07-25T08:15:44.503973Z",
     "shell.execute_reply": "2022-07-25T08:15:44.502538Z"
    },
    "papermill": {
     "duration": 0.082118,
     "end_time": "2022-07-25T08:15:44.507263",
     "exception": false,
     "start_time": "2022-07-25T08:15:44.425145",
     "status": "completed"
    },
    "tags": []
   },
   "outputs": [],
   "source": [
    "train_loss = tf.keras.metrics.Mean(name='train_loss')\n",
    "train_accuracy = tf.keras.metrics.Mean(name='train_accuracy')"
   ]
  },
  {
   "cell_type": "code",
   "execution_count": 23,
   "id": "0ee5a383",
   "metadata": {
    "execution": {
     "iopub.execute_input": "2022-07-25T08:15:44.544903Z",
     "iopub.status.busy": "2022-07-25T08:15:44.544314Z",
     "iopub.status.idle": "2022-07-25T08:15:44.741981Z",
     "shell.execute_reply": "2022-07-25T08:15:44.740650Z"
    },
    "papermill": {
     "duration": 0.218692,
     "end_time": "2022-07-25T08:15:44.745569",
     "exception": false,
     "start_time": "2022-07-25T08:15:44.526877",
     "status": "completed"
    },
    "tags": []
   },
   "outputs": [],
   "source": [
    "\n",
    "\n",
    "transformer = Transformer(\n",
    "    num_layers=num_layers,\n",
    "    d_model=d_model,\n",
    "    num_heads=num_heads,\n",
    "    dff=dff,\n",
    "    input_vocab_size=Encoder_Vocab,\n",
    "    target_vocab_size=Decoder_Vocab,\n",
    "    pe_input=1000,\n",
    "    pe_target=1000,\n",
    "    rate = dropout_rate)"
   ]
  },
  {
   "cell_type": "code",
   "execution_count": 24,
   "id": "53d85164",
   "metadata": {
    "execution": {
     "iopub.execute_input": "2022-07-25T08:15:44.780133Z",
     "iopub.status.busy": "2022-07-25T08:15:44.779536Z",
     "iopub.status.idle": "2022-07-25T08:15:44.789595Z",
     "shell.execute_reply": "2022-07-25T08:15:44.788328Z"
    },
    "papermill": {
     "duration": 0.030479,
     "end_time": "2022-07-25T08:15:44.792733",
     "exception": false,
     "start_time": "2022-07-25T08:15:44.762254",
     "status": "completed"
    },
    "tags": []
   },
   "outputs": [],
   "source": [
    "def create_masks(inp, tar):\n",
    "    enc_padding_mask = create_padding_mask(inp)\n",
    "    dec_padding_mask = create_padding_mask(inp)\n",
    "\n",
    "    look_ahead_mask = create_look_ahead_mask(tf.shape(tar)[1])\n",
    "    dec_target_padding_mask = create_padding_mask(tar)\n",
    "    combined_mask = tf.maximum(dec_target_padding_mask, look_ahead_mask)\n",
    "  \n",
    "    return enc_padding_mask, combined_mask, dec_padding_mask"
   ]
  },
  {
   "cell_type": "code",
   "execution_count": 25,
   "id": "a1bd1d6d",
   "metadata": {
    "execution": {
     "iopub.execute_input": "2022-07-25T08:15:44.826795Z",
     "iopub.status.busy": "2022-07-25T08:15:44.826159Z",
     "iopub.status.idle": "2022-07-25T08:15:44.841915Z",
     "shell.execute_reply": "2022-07-25T08:15:44.840823Z"
    },
    "papermill": {
     "duration": 0.035948,
     "end_time": "2022-07-25T08:15:44.844905",
     "exception": false,
     "start_time": "2022-07-25T08:15:44.808957",
     "status": "completed"
    },
    "tags": []
   },
   "outputs": [],
   "source": [
    "@tf.function\n",
    "def train_step(inp, tar):\n",
    "    tar_inp = tar[:, :-1]\n",
    "    tar_real = tar[:, 1:]\n",
    "\n",
    "    enc_padding_mask, combined_mask, dec_padding_mask = create_masks(inp, tar_inp)\n",
    "\n",
    "    with tf.GradientTape() as tape:\n",
    "        predictions, _ = transformer(\n",
    "            inp, tar_inp, \n",
    "            True, \n",
    "            enc_padding_mask, \n",
    "            combined_mask, \n",
    "            dec_padding_mask\n",
    "        )\n",
    "        loss = loss_function(tar_real, predictions)\n",
    "\n",
    "    gradients = tape.gradient(loss, transformer.trainable_variables)    \n",
    "    optimizer.apply_gradients(zip(gradients, transformer.trainable_variables))\n",
    "\n",
    "    train_loss(loss)\n",
    "    train_accuracy(accuracy_function(tar_real, predictions))"
   ]
  },
  {
   "cell_type": "code",
   "execution_count": 26,
   "id": "42496db5",
   "metadata": {
    "execution": {
     "iopub.execute_input": "2022-07-25T08:15:44.878320Z",
     "iopub.status.busy": "2022-07-25T08:15:44.877861Z",
     "iopub.status.idle": "2022-07-25T09:16:53.058182Z",
     "shell.execute_reply": "2022-07-25T09:16:53.056393Z"
    },
    "papermill": {
     "duration": 3668.212797,
     "end_time": "2022-07-25T09:16:53.073850",
     "exception": false,
     "start_time": "2022-07-25T08:15:44.861053",
     "status": "completed"
    },
    "tags": []
   },
   "outputs": [
    {
     "name": "stderr",
     "output_type": "stream",
     "text": [
      "2022-07-25 08:15:53.024973: I tensorflow/compiler/mlir/mlir_graph_optimization_pass.cc:185] None of the MLIR Optimization Passes are enabled (registered 2)\n"
     ]
    },
    {
     "name": "stdout",
     "output_type": "stream",
     "text": [
      "Epoch 1 Batch 0 Loss 10.8644 Accuracy 0.0000\n",
      "Epoch 1 Batch 200 Loss 10.5008 Accuracy 0.0467\n",
      "Epoch 1 Batch 400 Loss 9.6606 Accuracy 0.0537\n",
      "Epoch 1 Loss 9.2475 Accuracy 0.0550\n",
      "Time taken for 1 epoch: 193.6248254776001 secs\n",
      "\n",
      "Epoch 2 Batch 0 Loss 7.3445 Accuracy 0.0550\n",
      "Epoch 2 Batch 200 Loss 7.2368 Accuracy 0.0604\n",
      "Epoch 2 Batch 400 Loss 7.0211 Accuracy 0.0720\n",
      "Epoch 2 Loss 6.9293 Accuracy 0.0777\n",
      "Time taken for 1 epoch: 182.79051160812378 secs\n",
      "\n",
      "Epoch 3 Batch 0 Loss 6.3721 Accuracy 0.0778\n",
      "Epoch 3 Batch 200 Loss 6.3645 Accuracy 0.0887\n",
      "Epoch 3 Batch 400 Loss 6.2476 Accuracy 0.0986\n",
      "Epoch 3 Loss 6.1956 Accuracy 0.1030\n",
      "Time taken for 1 epoch: 182.84664058685303 secs\n",
      "\n",
      "Epoch 4 Batch 0 Loss 5.9185 Accuracy 0.1030\n",
      "Epoch 4 Batch 200 Loss 5.8401 Accuracy 0.1113\n",
      "Epoch 4 Batch 400 Loss 5.7467 Accuracy 0.1194\n",
      "Epoch 4 Loss 5.7033 Accuracy 0.1232\n",
      "Time taken for 1 epoch: 182.86119437217712 secs\n",
      "\n",
      "Epoch 5 Batch 0 Loss 5.3721 Accuracy 0.1233\n",
      "Epoch 5 Batch 200 Loss 5.3911 Accuracy 0.1307\n",
      "Epoch 5 Batch 400 Loss 5.3009 Accuracy 0.1381\n",
      "Epoch 5 Loss 5.2592 Accuracy 0.1416\n",
      "Time taken for 1 epoch: 182.87284684181213 secs\n",
      "\n",
      "Epoch 6 Batch 0 Loss 5.0025 Accuracy 0.1417\n",
      "Epoch 6 Batch 200 Loss 4.9572 Accuracy 0.1487\n",
      "Epoch 6 Batch 400 Loss 4.8722 Accuracy 0.1557\n",
      "Epoch 6 Loss 4.8341 Accuracy 0.1592\n",
      "Time taken for 1 epoch: 182.837096452713 secs\n",
      "\n",
      "Epoch 7 Batch 0 Loss 4.6386 Accuracy 0.1592\n",
      "Epoch 7 Batch 200 Loss 4.5486 Accuracy 0.1662\n",
      "Epoch 7 Batch 400 Loss 4.4649 Accuracy 0.1733\n",
      "Epoch 7 Loss 4.4296 Accuracy 0.1768\n",
      "Time taken for 1 epoch: 182.85953903198242 secs\n",
      "\n",
      "Epoch 8 Batch 0 Loss 4.2232 Accuracy 0.1769\n",
      "Epoch 8 Batch 200 Loss 4.1609 Accuracy 0.1840\n",
      "Epoch 8 Batch 400 Loss 4.0846 Accuracy 0.1911\n",
      "Epoch 8 Loss 4.0538 Accuracy 0.1947\n",
      "Time taken for 1 epoch: 182.9496147632599 secs\n",
      "\n",
      "Epoch 9 Batch 0 Loss 3.8630 Accuracy 0.1947\n",
      "Epoch 9 Batch 200 Loss 3.8033 Accuracy 0.2019\n",
      "Epoch 9 Batch 400 Loss 3.7211 Accuracy 0.2092\n",
      "Epoch 9 Loss 3.6864 Accuracy 0.2129\n",
      "Time taken for 1 epoch: 182.88272142410278 secs\n",
      "\n",
      "Epoch 10 Batch 0 Loss 3.5498 Accuracy 0.2129\n",
      "Epoch 10 Batch 200 Loss 3.4262 Accuracy 0.2204\n",
      "Epoch 10 Batch 400 Loss 3.3573 Accuracy 0.2279\n",
      "Epoch 10 Loss 3.3288 Accuracy 0.2316\n",
      "Time taken for 1 epoch: 182.91844749450684 secs\n",
      "\n",
      "Epoch 11 Batch 0 Loss 3.3196 Accuracy 0.2317\n",
      "Epoch 11 Batch 200 Loss 3.1131 Accuracy 0.2391\n",
      "Epoch 11 Batch 400 Loss 3.0588 Accuracy 0.2466\n",
      "Epoch 11 Loss 3.0354 Accuracy 0.2502\n",
      "Time taken for 1 epoch: 182.8800709247589 secs\n",
      "\n",
      "Epoch 12 Batch 0 Loss 3.1119 Accuracy 0.2502\n",
      "Epoch 12 Batch 200 Loss 2.8603 Accuracy 0.2575\n",
      "Epoch 12 Batch 400 Loss 2.8158 Accuracy 0.2648\n",
      "Epoch 12 Loss 2.7974 Accuracy 0.2683\n",
      "Time taken for 1 epoch: 182.919593334198 secs\n",
      "\n",
      "Epoch 13 Batch 0 Loss 2.6912 Accuracy 0.2683\n",
      "Epoch 13 Batch 200 Loss 2.6498 Accuracy 0.2754\n",
      "Epoch 13 Batch 400 Loss 2.6140 Accuracy 0.2823\n",
      "Epoch 13 Loss 2.5996 Accuracy 0.2857\n",
      "Time taken for 1 epoch: 182.8799283504486 secs\n",
      "\n",
      "Epoch 14 Batch 0 Loss 2.5984 Accuracy 0.2857\n",
      "Epoch 14 Batch 200 Loss 2.4797 Accuracy 0.2924\n",
      "Epoch 14 Batch 400 Loss 2.4500 Accuracy 0.2991\n",
      "Epoch 14 Loss 2.4369 Accuracy 0.3023\n",
      "Time taken for 1 epoch: 182.8470742702484 secs\n",
      "\n",
      "Epoch 15 Batch 0 Loss 2.4711 Accuracy 0.3023\n",
      "Epoch 15 Batch 200 Loss 2.3327 Accuracy 0.3087\n",
      "Epoch 15 Batch 400 Loss 2.3056 Accuracy 0.3150\n",
      "Epoch 15 Loss 2.2967 Accuracy 0.3180\n",
      "Time taken for 1 epoch: 182.82899522781372 secs\n",
      "\n",
      "Epoch 16 Batch 0 Loss 2.0565 Accuracy 0.3180\n",
      "Epoch 16 Batch 200 Loss 2.2064 Accuracy 0.3241\n",
      "Epoch 16 Batch 400 Loss 2.1852 Accuracy 0.3300\n",
      "Epoch 16 Loss 2.1774 Accuracy 0.3329\n",
      "Time taken for 1 epoch: 182.93216395378113 secs\n",
      "\n",
      "Epoch 17 Batch 0 Loss 2.1521 Accuracy 0.3329\n",
      "Epoch 17 Batch 200 Loss 2.0971 Accuracy 0.3386\n",
      "Epoch 17 Batch 400 Loss 2.0794 Accuracy 0.3443\n",
      "Epoch 17 Loss 2.0724 Accuracy 0.3470\n",
      "Time taken for 1 epoch: 182.88296270370483 secs\n",
      "\n",
      "Epoch 18 Batch 0 Loss 1.9907 Accuracy 0.3470\n",
      "Epoch 18 Batch 200 Loss 2.0070 Accuracy 0.3524\n",
      "Epoch 18 Batch 400 Loss 1.9868 Accuracy 0.3577\n",
      "Epoch 18 Loss 1.9804 Accuracy 0.3603\n",
      "Time taken for 1 epoch: 182.87624740600586 secs\n",
      "\n",
      "Epoch 19 Batch 0 Loss 2.0871 Accuracy 0.3603\n",
      "Epoch 19 Batch 200 Loss 1.9150 Accuracy 0.3655\n",
      "Epoch 19 Batch 400 Loss 1.8993 Accuracy 0.3705\n",
      "Epoch 19 Loss 1.8938 Accuracy 0.3730\n",
      "Time taken for 1 epoch: 182.85485172271729 secs\n",
      "\n",
      "Epoch 20 Batch 0 Loss 1.7886 Accuracy 0.3730\n",
      "Epoch 20 Batch 200 Loss 1.8362 Accuracy 0.3779\n",
      "Epoch 20 Batch 400 Loss 1.8229 Accuracy 0.3827\n",
      "Epoch 20 Loss 1.8176 Accuracy 0.3850\n",
      "Time taken for 1 epoch: 182.82518553733826 secs\n",
      "\n"
     ]
    }
   ],
   "source": [
    "for epoch in range(EPOCHS):\n",
    "    start = time.time()\n",
    "\n",
    "    train_loss.reset_states()\n",
    "  \n",
    "    for (batch, (inp, tar)) in enumerate(dataset):\n",
    "        train_step(inp, tar)\n",
    "    \n",
    "        if batch % 200 == 0:\n",
    "            print(f'Epoch {epoch + 1} Batch {batch} Loss {train_loss.result():.4f} Accuracy {train_accuracy.result():.4f}')\n",
    "      \n",
    "    \n",
    "   \n",
    "    print(f'Epoch {epoch + 1} Loss {train_loss.result():.4f} Accuracy {train_accuracy.result():.4f}')\n",
    "    print ('Time taken for 1 epoch: {} secs\\n'.format(time.time() - start))"
   ]
  },
  {
   "cell_type": "code",
   "execution_count": 27,
   "id": "65a807aa",
   "metadata": {
    "execution": {
     "iopub.execute_input": "2022-07-25T09:16:53.102800Z",
     "iopub.status.busy": "2022-07-25T09:16:53.102478Z",
     "iopub.status.idle": "2022-07-25T09:16:53.112975Z",
     "shell.execute_reply": "2022-07-25T09:16:53.112014Z"
    },
    "papermill": {
     "duration": 0.02778,
     "end_time": "2022-07-25T09:16:53.115080",
     "exception": false,
     "start_time": "2022-07-25T09:16:53.087300",
     "status": "completed"
    },
    "tags": []
   },
   "outputs": [],
   "source": [
    "def evaluate(text):\n",
    "    text = eng_tokenizer.texts_to_sequences([text])\n",
    "    text = tf.keras.preprocessing.sequence.pad_sequences(text, maxlen=Encoder_len, \n",
    "                                                                   padding='post', truncating='post')\n",
    "\n",
    "    encoder_input = tf.expand_dims(text[0], 0)\n",
    "\n",
    "    decoder_input = [hind_tokenizer.word_index['<sos>']]\n",
    "    output = tf.expand_dims(decoder_input, 0)\n",
    "    \n",
    "    for i in range(Decoder_len):\n",
    "        enc_padding_mask, combined_mask, dec_padding_mask = create_masks(encoder_input, output)\n",
    "\n",
    "        predictions, attention_weights = transformer(\n",
    "            encoder_input, \n",
    "            output,\n",
    "            False,\n",
    "            enc_padding_mask,\n",
    "            combined_mask,\n",
    "            dec_padding_mask\n",
    "        )\n",
    "\n",
    "        predictions = predictions[: ,-1:, :]\n",
    "        predicted_id = tf.cast(tf.argmax(predictions, axis=-1), tf.int32)\n",
    "\n",
    "        if predicted_id == hind_tokenizer.word_index['<eos>']:\n",
    "            return tf.squeeze(output, axis=0), attention_weights\n",
    "\n",
    "        output = tf.concat([output, predicted_id], axis=-1)\n",
    "\n",
    "    return tf.squeeze(output, axis=0), attention_weights"
   ]
  },
  {
   "cell_type": "code",
   "execution_count": 28,
   "id": "a38043a3",
   "metadata": {
    "execution": {
     "iopub.execute_input": "2022-07-25T09:16:53.143430Z",
     "iopub.status.busy": "2022-07-25T09:16:53.143170Z",
     "iopub.status.idle": "2022-07-25T09:16:53.148578Z",
     "shell.execute_reply": "2022-07-25T09:16:53.147751Z"
    },
    "papermill": {
     "duration": 0.022104,
     "end_time": "2022-07-25T09:16:53.150700",
     "exception": false,
     "start_time": "2022-07-25T09:16:53.128596",
     "status": "completed"
    },
    "tags": []
   },
   "outputs": [],
   "source": [
    "def translate(eng_text):\n",
    "    hind_text = evaluate(text=eng_text)[0].numpy()\n",
    "    hind_text = np.expand_dims(hind_text[1:], 0)  \n",
    "    return hind_tokenizer.sequences_to_texts(hind_text)[0]"
   ]
  },
  {
   "cell_type": "code",
   "execution_count": 29,
   "id": "c589bb7f",
   "metadata": {
    "execution": {
     "iopub.execute_input": "2022-07-25T09:16:53.178313Z",
     "iopub.status.busy": "2022-07-25T09:16:53.177579Z",
     "iopub.status.idle": "2022-07-25T09:16:54.715594Z",
     "shell.execute_reply": "2022-07-25T09:16:54.714600Z"
    },
    "papermill": {
     "duration": 1.553992,
     "end_time": "2022-07-25T09:16:54.717753",
     "exception": false,
     "start_time": "2022-07-25T09:16:53.163761",
     "status": "completed"
    },
    "tags": []
   },
   "outputs": [
    {
     "data": {
      "text/plain": [
       "'मैं एक विद्यार्थी और सीखने के साथ अध्ययन करना चाहता हूं'"
      ]
     },
     "execution_count": 29,
     "metadata": {},
     "output_type": "execute_result"
    }
   ],
   "source": [
    "translate(\"I am a student and I like to study very much.\")"
   ]
  },
  {
   "cell_type": "code",
   "execution_count": 30,
   "id": "01306f55",
   "metadata": {
    "execution": {
     "iopub.execute_input": "2022-07-25T09:16:54.747665Z",
     "iopub.status.busy": "2022-07-25T09:16:54.746682Z",
     "iopub.status.idle": "2022-07-25T09:16:56.148596Z",
     "shell.execute_reply": "2022-07-25T09:16:56.147447Z"
    },
    "papermill": {
     "duration": 1.419551,
     "end_time": "2022-07-25T09:16:56.151436",
     "exception": false,
     "start_time": "2022-07-25T09:16:54.731885",
     "status": "completed"
    },
    "tags": []
   },
   "outputs": [
    {
     "data": {
      "text/plain": [
       "'मेरा नाम ख़ुशी है मेरी अलौकिक शब्द याद बहुत ज्यादा है।'"
      ]
     },
     "execution_count": 30,
     "metadata": {},
     "output_type": "execute_result"
    }
   ],
   "source": [
    "translate(\"My name is Khushi\")"
   ]
  },
  {
   "cell_type": "code",
   "execution_count": 31,
   "id": "96ed8893",
   "metadata": {
    "execution": {
     "iopub.execute_input": "2022-07-25T09:16:56.180851Z",
     "iopub.status.busy": "2022-07-25T09:16:56.180530Z",
     "iopub.status.idle": "2022-07-25T09:16:57.983109Z",
     "shell.execute_reply": "2022-07-25T09:16:57.981903Z"
    },
    "papermill": {
     "duration": 1.820428,
     "end_time": "2022-07-25T09:16:57.985973",
     "exception": false,
     "start_time": "2022-07-25T09:16:56.165545",
     "status": "completed"
    },
    "tags": []
   },
   "outputs": [
    {
     "data": {
      "text/plain": [
       "'मैं क्रिकेट खेल खेलने के साथ खेल रहा हूँ क्रिकेट खेल खेले जा रहा हूँ'"
      ]
     },
     "execution_count": 31,
     "metadata": {},
     "output_type": "execute_result"
    }
   ],
   "source": [
    "translate(\"I want to play cricket\")"
   ]
  },
  {
   "cell_type": "code",
   "execution_count": 32,
   "id": "13803792",
   "metadata": {
    "execution": {
     "iopub.execute_input": "2022-07-25T09:16:58.016821Z",
     "iopub.status.busy": "2022-07-25T09:16:58.016515Z",
     "iopub.status.idle": "2022-07-25T09:16:59.144294Z",
     "shell.execute_reply": "2022-07-25T09:16:59.143354Z"
    },
    "papermill": {
     "duration": 1.145458,
     "end_time": "2022-07-25T09:16:59.146886",
     "exception": false,
     "start_time": "2022-07-25T09:16:58.001428",
     "status": "completed"
    },
    "tags": []
   },
   "outputs": [
    {
     "data": {
      "text/plain": [
       "'मैं अपने परिवार के बारे में बहुत खुश हूं'"
      ]
     },
     "execution_count": 32,
     "metadata": {},
     "output_type": "execute_result"
    }
   ],
   "source": [
    "translate(\"I am very happy about my family\")"
   ]
  }
 ],
 "metadata": {
  "kernelspec": {
   "display_name": "Python 3",
   "language": "python",
   "name": "python3"
  },
  "language_info": {
   "codemirror_mode": {
    "name": "ipython",
    "version": 3
   },
   "file_extension": ".py",
   "mimetype": "text/x-python",
   "name": "python",
   "nbconvert_exporter": "python",
   "pygments_lexer": "ipython3",
   "version": "3.7.12"
  },
  "papermill": {
   "default_parameters": {},
   "duration": 3707.524691,
   "end_time": "2022-07-25T09:17:02.687082",
   "environment_variables": {},
   "exception": null,
   "input_path": "__notebook__.ipynb",
   "output_path": "__notebook__.ipynb",
   "parameters": {},
   "start_time": "2022-07-25T08:15:15.162391",
   "version": "2.3.4"
  }
 },
 "nbformat": 4,
 "nbformat_minor": 5
}
